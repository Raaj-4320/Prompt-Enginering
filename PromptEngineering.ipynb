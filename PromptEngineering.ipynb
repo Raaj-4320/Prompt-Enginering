{
 "cells": [
  {
   "cell_type": "markdown",
   "metadata": {},
   "source": [
    "# Prompt Engineering Langchain"
   ]
  },
  {
   "cell_type": "code",
   "execution_count": 65,
   "metadata": {},
   "outputs": [],
   "source": [
    "import os\n",
    "os.environ['OPENAI_API_KEY'] = OPENAI_API_KEY\n",
    "os.environ['SERPAPI_API_KEY'] = ''"
   ]
  },
  {
   "cell_type": "code",
   "execution_count": 18,
   "metadata": {},
   "outputs": [],
   "source": [
    "from langchain import PromptTemplate "
   ]
  },
  {
   "cell_type": "code",
   "execution_count": 19,
   "metadata": {},
   "outputs": [
    {
     "data": {
      "text/plain": [
       "'I want you to act as a financial advisor for people. \\nIn an easy way, explain the basics of income tax.'"
      ]
     },
     "execution_count": 19,
     "metadata": {},
     "output_type": "execute_result"
    }
   ],
   "source": [
    "demo_template='''I want you to act as a financial advisor for people. \n",
    "In an easy way, explain the basics of {financial_concept}.'''\n",
    "\n",
    "prompt = PromptTemplate(\n",
    "    input_variables = ['financial_concept'],\n",
    "    template=demo_template\n",
    "    )\n",
    "\n",
    "prompt.format(financial_concept='income tax')"
   ]
  },
  {
   "cell_type": "code",
   "execution_count": 30,
   "metadata": {},
   "outputs": [],
   "source": [
    "from langchain_community.llms import OpenAI\n",
    "from langchain.chains import LLMChain\n",
    "from langchain_core.runnables import RunnableLambda\n",
    "from langchain_openai import OpenAI"
   ]
  },
  {
   "cell_type": "code",
   "execution_count": 35,
   "metadata": {},
   "outputs": [],
   "source": [
    "llm=OpenAI(temperature=0.7)\n",
    "# chain1 = prompt | llm | prompt\n",
    "chain1 =LLMChain(llm=llm,prompt=prompt)"
   ]
  },
  {
   "cell_type": "code",
   "execution_count": 38,
   "metadata": {},
   "outputs": [
    {
     "data": {
      "text/plain": [
       "\"\\n\\nGDP, or Gross Domestic Product, is a measure of the total value of goods and services produced in a country over a certain period of time, usually a year. It is an important indicator of a country's economic health and is often used to gauge the overall growth or decline of an economy.\\n\\nThere are two main ways to calculate GDP: the expenditure approach and the income approach. The expenditure approach adds up all the money spent on final goods and services within a country, including consumer spending, government spending, investment, and net exports (exports minus imports). The income approach adds up all the income earned by individuals and businesses within a country, including wages, profits, and rent.\\n\\nGDP can also be broken down into different categories, such as personal consumption, business investment, government spending, and net exports. This allows us to see which areas of the economy are driving growth or experiencing declines.\\n\\nIt's important to note that GDP does not measure the overall well-being or quality of life of a country's citizens. It simply measures the value of economic activity within a country. Factors such as income inequality and environmental sustainability are not taken into account in GDP.\\n\\nIn general, a higher GDP indicates a stronger economy, but it's not the only factor to consider. It's\""
      ]
     },
     "execution_count": 38,
     "metadata": {},
     "output_type": "execute_result"
    }
   ],
   "source": [
    "chain1.run('GDP')"
   ]
  },
  {
   "cell_type": "code",
   "execution_count": 41,
   "metadata": {},
   "outputs": [
    {
     "data": {
      "text/plain": [
       "\"In an easy way translate the following sentence 'How are you' into hindi \""
      ]
     },
     "execution_count": 41,
     "metadata": {},
     "output_type": "execute_result"
    }
   ],
   "source": [
    "## Language translation\n",
    "from langchain import PromptTemplate\n",
    "\n",
    "template = '''In an easy way translate the following sentence '{sentence}' into {target_language} '''\n",
    "\n",
    "language_prompt = PromptTemplate(\n",
    "    input_variables = ['sentence', 'target_language'],\n",
    "    template = template,\n",
    ")\n",
    "\n",
    "language_prompt.format(sentence=\"How are you\", target_language=\"hindi\")"
   ]
  },
  {
   "cell_type": "code",
   "execution_count": 51,
   "metadata": {},
   "outputs": [
    {
     "data": {
      "text/plain": [
       "{'sentence': 'Hello how are you',\n",
       " 'target_language': 'Punjabi',\n",
       " 'text': '\\n\\nਹੈਲੋ ਤੁਸੀਂ ਕਿਵੇਂ ਹੋ? (Hello tusi kiven ho?)'}"
      ]
     },
     "execution_count": 51,
     "metadata": {},
     "output_type": "execute_result"
    }
   ],
   "source": [
    "chain2=LLMChain(llm=llm,prompt=language_prompt)\n",
    "\n",
    "chain2.invoke({'sentence':\"Hello how are you\",'target_language':'Punjabi'})"
   ]
  },
  {
   "cell_type": "code",
   "execution_count": 54,
   "metadata": {},
   "outputs": [],
   "source": [
    "from langchain import PromptTemplate, FewShotPromptTemplate\n",
    "\n",
    "# First, create the list of few shot examples.\n",
    "examples = [{\"word\":\"happy\",\"antonym\":\"sad\"}, {\"word\":\"tall\", \"antonym\":\"short\"}]\n",
    "\n",
    "example_formatter_template = \"\"\"Word: {word}\n",
    "Antonym: {antonym}\n",
    "\"\"\"\n",
    "\n",
    "example_prompt = PromptTemplate(\n",
    "    input_variables = ['word','antonym'],\n",
    "    template = example_formatter_template,\n",
    ")"
   ]
  },
  {
   "cell_type": "code",
   "execution_count": 59,
   "metadata": {},
   "outputs": [],
   "source": [
    "few_shot_prompt = FewShotPromptTemplate(\n",
    "    examples=examples,\n",
    "    example_prompt=example_prompt,\n",
    "    prefix='Give the antonym of every input\\n',\n",
    "    suffix='Word: {input}\\nAntonym: ',\n",
    "    input_variables=['input'],\n",
    "    example_separator=\"\\n\"\n",
    ")"
   ]
  },
  {
   "cell_type": "code",
   "execution_count": 61,
   "metadata": {},
   "outputs": [
    {
     "name": "stdout",
     "output_type": "stream",
     "text": [
      "Give the antonym of every input\n",
      "\n",
      "Word: happy\n",
      "Antonym: sad\n",
      "\n",
      "Word: tall\n",
      "Antonym: short\n",
      "\n",
      "Word: big\n",
      "Antonym: \n"
     ]
    }
   ],
   "source": [
    "print(few_shot_prompt.format(input='big'))"
   ]
  },
  {
   "cell_type": "code",
   "execution_count": 62,
   "metadata": {},
   "outputs": [
    {
     "data": {
      "text/plain": [
       "{'input': 'big', 'text': 'small'}"
      ]
     },
     "execution_count": 62,
     "metadata": {},
     "output_type": "execute_result"
    }
   ],
   "source": [
    "chain3 = LLMChain(llm=llm,prompt=few_shot_prompt)\n",
    "chain3.invoke({'input':'big'})"
   ]
  },
  {
   "cell_type": "code",
   "execution_count": null,
   "metadata": {},
   "outputs": [],
   "source": []
  }
 ],
 "metadata": {
  "kernelspec": {
   "display_name": "base",
   "language": "python",
   "name": "python3"
  },
  "language_info": {
   "codemirror_mode": {
    "name": "ipython",
    "version": 3
   },
   "file_extension": ".py",
   "mimetype": "text/x-python",
   "name": "python",
   "nbconvert_exporter": "python",
   "pygments_lexer": "ipython3",
   "version": "3.11.7"
  }
 },
 "nbformat": 4,
 "nbformat_minor": 2
}
